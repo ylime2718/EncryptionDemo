{
 "cells": [
  {
   "cell_type": "markdown",
   "id": "1b474765",
   "metadata": {},
   "source": [
    "# Advanced Encryption Standard\n",
    "Based on __[NIST standards](https://www.nist.gov/publications/advanced-encryption-standard-aes)__ published in 2001.\n",
    "\n",
    "Structure of implementation taken from *Real World Algorithms*, Panos Louridas, MIT Press, 2017."
   ]
  },
  {
   "cell_type": "markdown",
   "id": "083544fa",
   "metadata": {},
   "source": [
    "## AES Cipher Algorithm (encryption)\n",
    "\n",
    "### Input\n",
    "*b* - a block of 16 bytes  \n",
    "*k* - the encryption key  \n",
    "*n* - the number of rounds  \n",
    "\n",
    "### Output\n",
    "*s* - the ciphertext, corresponding to *b*  \n",
    "***\n",
    "### Procedure\n",
    "**AESCipher** (*b*, *k*, *n*) &rarr; *s*\\\n",
    "*s* &larr; CreateSlate(*b*)  \\\n",
    "*rk* &larr; ExpandKey(*k*)  \\\n",
    "*s* &larr; AddRoundKey(*s*, *rk*[0]) \\\n",
    "**for** *i* &larr; 1 **to** *n* **do** \\\n",
    "> *s* &larr; SubBytes(*s*)\\\n",
    "> *s* &larr; ShiftRows(*s*)\\\n",
    "> *s* &larr; MixColumns(*s*)\\\n",
    "> *s* &larr; AddRoundKey(*s*, *rk*[*i*])\\\n",
    "\n",
    "*s* &larr; SubBytes(*s*)\\\n",
    "*s* &larr; ShiftRows(*s*)\\\n",
    "*s* &larr; AddRoundKey(*s*, *rk*[*n*])\\\n",
    "**return** *s*"
   ]
  },
  {
   "cell_type": "markdown",
   "id": "4a70bc51",
   "metadata": {},
   "source": [
    "## AES Decipher Algorithm (decryption)\n",
    "\n",
    "### Input\n",
    "*b* - a block of 16 bytes  \n",
    "*k* - the encryption key  \n",
    "*n* - the number of rounds  \n",
    "\n",
    "### Output\n",
    "*s* - the plaintext, corresponding to *b*  \n",
    "***\n",
    "### Procedure\n",
    "**AESDecipher** (*b*, *k*, *n*) &rarr; *s*\\\n",
    "*s* &larr; CreateSlate(*b*)  \\\n",
    "*rk* &larr; ExpandKey(*k*)  \\\n",
    "*s* &larr; AddRoundKey(*s*, *rk*[n]) \\\n",
    "**for** *i* &larr; 1 **to** *n* **do** \\\n",
    "\n",
    "> *s* &larr; InvShiftRows(*s*)\\\n",
    "> *s* &larr; InvSubBytes(*s*)\\\n",
    "> *s* &larr; AddRoundKey(*s*, *rk*[*n* - *i*])\\\n",
    "> *s* &larr; InvMixColumns(*s*)\\\n",
    "\n",
    "*s* &larr; InvShiftRows(*s*)\\\n",
    "*s* &larr; InvSubBytes(*s*)\\\n",
    "*s* &larr; AddRoundKey(*s*, *rk*[*0*])\\\n",
    "**return** *s*"
   ]
  },
  {
   "cell_type": "code",
   "execution_count": null,
   "id": "84b32654",
   "metadata": {},
   "outputs": [],
   "source": []
  }
 ],
 "metadata": {
  "kernelspec": {
   "display_name": "Python 3 (ipykernel)",
   "language": "python",
   "name": "python3"
  },
  "language_info": {
   "codemirror_mode": {
    "name": "ipython",
    "version": 3
   },
   "file_extension": ".py",
   "mimetype": "text/x-python",
   "name": "python",
   "nbconvert_exporter": "python",
   "pygments_lexer": "ipython3",
   "version": "3.9.12"
  }
 },
 "nbformat": 4,
 "nbformat_minor": 5
}
