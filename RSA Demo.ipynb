{
 "cells": [
  {
   "cell_type": "code",
   "execution_count": null,
   "id": "c48f086e",
   "metadata": {},
   "outputs": [],
   "source": [
    "import numpy as np"
   ]
  },
  {
   "cell_type": "markdown",
   "id": "fd2e47bc",
   "metadata": {},
   "source": [
    "## Helper Functions"
   ]
  },
  {
   "cell_type": "markdown",
   "id": "9bc8862e",
   "metadata": {},
   "source": [
    "### Convert String to Int Array (ASCII)"
   ]
  },
  {
   "cell_type": "code",
   "execution_count": null,
   "id": "ab39a97c",
   "metadata": {},
   "outputs": [],
   "source": [
    "def stringToIntArr(str):\n",
    "    byte_st = str.encode('ascii')\n",
    "    return np.array(list(map(int, byte_st)))"
   ]
  },
  {
   "cell_type": "markdown",
   "id": "7f2d3408",
   "metadata": {},
   "source": [
    "### Convert Int Array (ASCII) to String"
   ]
  },
  {
   "cell_type": "code",
   "execution_count": null,
   "id": "2502e117",
   "metadata": {},
   "outputs": [],
   "source": [
    "def intArrToString(intArr):\n",
    "    return (''.join(chr(i) for i in intArr))"
   ]
  },
  {
   "cell_type": "markdown",
   "id": "09845f8e",
   "metadata": {},
   "source": [
    "### Convert Int Array to Single Int"
   ]
  },
  {
   "cell_type": "code",
   "execution_count": null,
   "id": "bab9d1e8",
   "metadata": {},
   "outputs": [],
   "source": [
    "def byteArrToSingleInt(byte_arr_in):\n",
    "    '''\n",
    "    ASCII codes can be up to 3 digits long (in decimal).\n",
    "    To enable effective decryption, ASCII codes with less than 3 digits\n",
    "    will be padded at the front with extra 0's.\n",
    "    Then all codes will be concatenated into one long string of digits,\n",
    "    and this will be cast into an integer.\n",
    "    \n",
    "    Input:\n",
    "        byte_arr_int - array of integers\n",
    "    \n",
    "    Output:\n",
    "        x_int - a single integer containing all integers in the input array\n",
    "    '''\n",
    "    x_st = \"\"\n",
    "    for i in byte_arr_in:\n",
    "        i_st = str(i)\n",
    "        if len(i_st) == 1:\n",
    "            i_st = \"00\" + i_st\n",
    "        elif len(i_st) == 2:\n",
    "            i_st = \"0\" + i_st\n",
    "        x_st = x_st + i_st\n",
    "        x_int = int(x_st)\n",
    "    return x_int"
   ]
  },
  {
   "cell_type": "markdown",
   "id": "ddba51b3",
   "metadata": {},
   "source": [
    "### Convert Single Int to Array of Ints"
   ]
  },
  {
   "cell_type": "code",
   "execution_count": null,
   "id": "a2e128ab",
   "metadata": {},
   "outputs": [],
   "source": [
    "def singleIntToByteArr(singleInt):\n",
    "    int_str = str(singleInt)\n",
    "    if len(int_str)%3 == 1:\n",
    "        int_str = \"00\" + int_str\n",
    "    elif len(int_str)%3 == 2:\n",
    "        int_str = \"0\" + int_str\n",
    "    chars = len(int_str)//3\n",
    "    int_arr = []\n",
    "\n",
    "    for i in range(chars):\n",
    "        # remove first three characters, put in its own place in the array\n",
    "        int_arr.append(int(int_str[3*i:3*(i+1)]))\n",
    "    return int_arr"
   ]
  },
  {
   "cell_type": "markdown",
   "id": "8554eca8",
   "metadata": {},
   "source": [
    "### Modular Exponentiation"
   ]
  },
  {
   "cell_type": "code",
   "execution_count": null,
   "id": "958cf187",
   "metadata": {},
   "outputs": [],
   "source": [
    "def modExp(g,x,p):\n",
    "    '''\n",
    "    An efficient way to raise a number to a large power, modulus some \n",
    "    other integer: g^x mod p\n",
    "    \n",
    "    Complexity is O(log(x)), logarithmic complexity, compared to computing\n",
    "    g^x mod p directly, which is O(x), linear complexity.\n",
    "    \n",
    "    Input:\n",
    "        g - integer base, to be multiplied by itself x times\n",
    "        x - integer exponent\n",
    "        p - modulus, or divisor\n",
    "    \n",
    "    Output:\n",
    "        r - equal to g^x mod p\n",
    "    '''\n",
    "    \n",
    "    c = g % p\n",
    "    d = x\n",
    "    r = 1\n",
    "\n",
    "    while d > 0:\n",
    "        if d % 2 == 1:\n",
    "            r = (r*c) % p\n",
    "        d = d//2\n",
    "        c = (c*c) % p\n",
    "    return r"
   ]
  },
  {
   "cell_type": "markdown",
   "id": "ef8d8965",
   "metadata": {},
   "source": [
    "### Euclidean Algorithm"
   ]
  },
  {
   "cell_type": "code",
   "execution_count": null,
   "id": "c9be768a",
   "metadata": {},
   "outputs": [],
   "source": [
    "def euclidean(a,b):\n",
    "    '''\n",
    "    Finds the Greatest Common Divisor of two integers, (a, b)\n",
    "    \n",
    "    Input:\n",
    "        a, b - both integers\n",
    "        \n",
    "    Output:\n",
    "        GCD(a,b)\n",
    "    '''\n",
    "    if b == 0:\n",
    "        return a\n",
    "    else:\n",
    "        return euclidean(b, a % b)"
   ]
  },
  {
   "cell_type": "markdown",
   "id": "2b94ccd8",
   "metadata": {},
   "source": [
    "### Extended Euclidean Algorithm"
   ]
  },
  {
   "cell_type": "code",
   "execution_count": null,
   "id": "b25ec45c",
   "metadata": {},
   "outputs": [],
   "source": [
    "def extendedEuclidean(a,b):\n",
    "    '''\n",
    "    Finds the Greatest Common Divisor of two integers, (a, b), and finds\n",
    "    integers x and y such that:\n",
    "    \n",
    "    x*a + y*b = GCD(a,b)\n",
    "    \n",
    "    Thereby expressing the GCD(a,b) as a linear combination of a and b.\n",
    "    \n",
    "    Input:\n",
    "        a, b - both integers\n",
    "        \n",
    "    Output:\n",
    "        r - GCD(a,b)\n",
    "        x - factor to multiply a by\n",
    "        y - factor to multiply y by\n",
    "    '''\n",
    "    if b == 0:\n",
    "        return (a,1,0)\n",
    "    else:\n",
    "        (r,x,y) = extendedEuclidean(b, a % b)\n",
    "        return (r, y, x-y*(a//b))"
   ]
  },
  {
   "cell_type": "markdown",
   "id": "92e57c95",
   "metadata": {},
   "source": [
    "## RSA Implementation"
   ]
  },
  {
   "cell_type": "markdown",
   "id": "2879bd08",
   "metadata": {},
   "source": [
    "### RSA Encryption"
   ]
  },
  {
   "cell_type": "code",
   "execution_count": null,
   "id": "f3d2d3ac",
   "metadata": {},
   "outputs": [],
   "source": [
    "def encryptRSA(M,n,e):\n",
    "    '''\n",
    "    Encrypts a plaintext message expressed as an integer according to \n",
    "    RSA protocol: C = M^e mod n\n",
    "    \n",
    "    Input:\n",
    "        M - plaintext message, which must be smaller than modulus\n",
    "        n - modulus for public & private key, product of two large primes\n",
    "        e - exponent for public key\n",
    "        \n",
    "    Output:\n",
    "        C - ciphertext message\n",
    "    '''\n",
    "    assert M < n\n",
    "    C = modExp(M,e,n)\n",
    "    return C"
   ]
  },
  {
   "cell_type": "markdown",
   "id": "c05dc543",
   "metadata": {},
   "source": [
    "### RSA Decryption"
   ]
  },
  {
   "cell_type": "code",
   "execution_count": null,
   "id": "f1210d1e",
   "metadata": {},
   "outputs": [],
   "source": [
    "def decryptRSA(C,n,d):\n",
    "    '''\n",
    "    Decrypts a ciphertext message expressed as an integer according to \n",
    "    RSA protocol: M = C^d mod n\n",
    "    \n",
    "    Input:\n",
    "        C - ciphertext message\n",
    "        n - modulus for public & private key, product of two large primes\n",
    "        d - part of private key\n",
    "        \n",
    "    Output:\n",
    "        M - plaintext message\n",
    "    '''\n",
    "    \n",
    "    M = modExp(C,d,n)\n",
    "    return M"
   ]
  },
  {
   "cell_type": "markdown",
   "id": "32397ad9",
   "metadata": {},
   "source": [
    "## RSA Examples"
   ]
  },
  {
   "cell_type": "markdown",
   "id": "168a7a9a",
   "metadata": {},
   "source": [
    "### RSA Example with small primes\n",
    "RSA require two prime numbers to start. The modulus used for encryption and decryption is the product of those primes.\n",
    "> $n=p*q$\n",
    "\n",
    "We will also calculate the \"totient\" of n, $\\phi(n)$, to help us set up the rest of the scheme.\n",
    "> $\\phi(n)=(p-1)*(q-1)$\n",
    "\n",
    "Note that knowledge of $p$ and $q$ is required to find $n$ and $\\phi(n)$."
   ]
  },
  {
   "cell_type": "code",
   "execution_count": null,
   "id": "5ed9a649",
   "metadata": {},
   "outputs": [],
   "source": [
    "p, q = 17,23\n",
    "n = p * q\n",
    "totient = (p-1)*(q-1)\n",
    "print(\"Large product of primes, p*q=n, is\",n)\n",
    "print(\"Totient value, (p-1)*(q-1), is\",totient)"
   ]
  },
  {
   "cell_type": "markdown",
   "id": "d723c352",
   "metadata": {},
   "source": [
    "Now that we have the modulus, we need exponents to complete the public and private key pairs.\n",
    "\n",
    "**Public key:**\n",
    ">$GCD(e,\\phi(n)) = 1$\n",
    "\n",
    "i.e. no shared factors between e and $\\phi(n)$. Since $p$ and $q$ are always odd, $\\phi(n)$ will always be even, so an odd prime is a good choice to ensure there are no shared factors (e.g. 3).\n",
    "\n",
    "**Private key**\n",
    "> $e*d$ $mod$ $\\phi(n) = 1$\n",
    "\n",
    "i.e. $e*d + y*\\phi(n) = 1$ (where $y$ is some integer). This is like writing the $GCD(e,\\phi(n))$ as a linear combination of $e$ and $\\phi(n)$, and $d$ will be the factor multiplied by $e$. Therefore, we can solve for $d$ with the Extended Euclidean algorithm."
   ]
  },
  {
   "cell_type": "code",
   "execution_count": null,
   "id": "86d98b02",
   "metadata": {},
   "outputs": [],
   "source": [
    "e = 3\n",
    "\n",
    "(gcd,x,y) = extendedEuclidean(e,totient)\n",
    "if x < 0:\n",
    "    d = x + totient\n",
    "else:\n",
    "    d = x\n",
    "print(\"d =\",d)"
   ]
  },
  {
   "cell_type": "markdown",
   "id": "c0b13427",
   "metadata": {},
   "source": [
    "Now we're ready to encrypt any message that can be expressed as an integer smaller than our $n$."
   ]
  },
  {
   "cell_type": "code",
   "execution_count": null,
   "id": "18f9dde1",
   "metadata": {},
   "outputs": [],
   "source": [
    "small_mess = 314"
   ]
  },
  {
   "cell_type": "code",
   "execution_count": null,
   "id": "fa124dca",
   "metadata": {},
   "outputs": [],
   "source": [
    "C = encryptRSA(small_mess,n,e)\n",
    "print(\"Cipertext is\",C)"
   ]
  },
  {
   "cell_type": "code",
   "execution_count": null,
   "id": "06f5baab",
   "metadata": {},
   "outputs": [],
   "source": [
    "original_mess = decryptRSA(C,n,d)\n",
    "print(\"Cipertext decrypted to reveal original message,\",original_mess)"
   ]
  },
  {
   "cell_type": "markdown",
   "id": "f22a0cc0",
   "metadata": {},
   "source": [
    "### RSA Example with larger primes\n",
    "In practice, we want quite large primes to prevent attacks on RSA, about 1000 decimal digits or 4096 bits. Let's see an example with primes that would be difficult to work with by hand."
   ]
  },
  {
   "cell_type": "code",
   "execution_count": null,
   "id": "ff769b56",
   "metadata": {},
   "outputs": [],
   "source": [
    "p_large = 10152463 # 10,152,463\n",
    "q_large = 10232143 # 10,232,143\n",
    "n_large = p_large * q_large\n",
    "totient_large = (p_large-1) * (q_large-1)\n",
    "print(\"Large product of primes, p*q=n, is\",\"{:,}\".format(n_large))\n",
    "print(\"Totient value, (p-1)*(q-1), is\",\"{:,}\".format(totient_large))"
   ]
  },
  {
   "cell_type": "code",
   "execution_count": null,
   "id": "912f625a",
   "metadata": {},
   "outputs": [],
   "source": [
    "# a popular choice for e is 65,537 = 2^16 + 1, because it is somewhat large, it can be computed quickly since it is\n",
    "# +1 more than an even power of 2, and it is prime\n",
    "e_large = 65537\n",
    "\n",
    "# GCD of e and totient should be 1\n",
    "euclidean(totient_large,e_large)"
   ]
  },
  {
   "cell_type": "code",
   "execution_count": null,
   "id": "cc6c3ad7",
   "metadata": {},
   "outputs": [],
   "source": [
    "(gcd_large,x_large,y_large) = extendedEuclidean(e_large,totient_large)\n",
    "\n",
    "if x_large < 0:\n",
    "    d_large = x_large + totient_large\n",
    "else:\n",
    "    d_large = x_large\n",
    "print(\"Exponent for private key is\",\"{:,}\".format(d_large))"
   ]
  },
  {
   "cell_type": "markdown",
   "id": "ee0670eb",
   "metadata": {},
   "source": [
    "Let's encrypt that small numerical message again, <code>small_mess=314</code>."
   ]
  },
  {
   "cell_type": "code",
   "execution_count": null,
   "id": "55b9e4aa",
   "metadata": {},
   "outputs": [],
   "source": [
    "C_1 = encryptRSA(small_mess,n_large,e_large)\n",
    "print(\"Ciphertext is\",C_1,\"or\",\"{:,}\".format(C_1))"
   ]
  },
  {
   "cell_type": "code",
   "execution_count": null,
   "id": "5eb011ac",
   "metadata": {},
   "outputs": [],
   "source": [
    "M_1 = decryptRSA(C_1,n_large,d_large)\n",
    "print(\"Original message, visible after decryption, is\",M_1)"
   ]
  },
  {
   "cell_type": "markdown",
   "id": "ad25fad4",
   "metadata": {},
   "source": [
    "### RSA Example with larger primes - encrypting text message\n",
    "Now let's encrypt a larger message, a string encoded as a large integer."
   ]
  },
  {
   "cell_type": "code",
   "execution_count": null,
   "id": "0797450e",
   "metadata": {},
   "outputs": [],
   "source": [
    "textM = \"Emily\"\n",
    "intarrM = stringToIntArr(textM)\n",
    "intM = byteArrToSingleInt(intarrM)\n",
    "print(\"Plaintext in original form:\",textM)\n",
    "print(\"Plaintext as an array of ASCII codes:\",intarrM)\n",
    "print(\"Plaintext as one large integer:\",intM)"
   ]
  },
  {
   "cell_type": "code",
   "execution_count": null,
   "id": "e19fde6d",
   "metadata": {},
   "outputs": [],
   "source": [
    "C_2 = encryptRSA(intM,n_large,e_large)\n",
    "print(\"Ciphertext is\",C_2,\"or\",\"{:,}\".format(C_2))"
   ]
  },
  {
   "cell_type": "code",
   "execution_count": null,
   "id": "d540729e",
   "metadata": {},
   "outputs": [],
   "source": [
    "M_2 = decryptRSA(C_2,n_large,d_large)\n",
    "print(\"Plaintext as integer, returned by decryption is\",M_2)"
   ]
  },
  {
   "cell_type": "code",
   "execution_count": null,
   "id": "bc7cfd8b",
   "metadata": {},
   "outputs": [],
   "source": [
    "intarrM = singleIntToByteArr(M_2)\n",
    "textM = intArrToString(intarrM)\n",
    "print(\"Plaintext returned to array of ASCII chars is\",intarrM)\n",
    "print(\"Plaintext returned to original readable form is\",textM)"
   ]
  },
  {
   "cell_type": "markdown",
   "id": "f88e1101",
   "metadata": {},
   "source": [
    "## RSA - encrypting vs. signing\n",
    "Although RSA has some clear limitations (requiring huge prime numbers, performing rather slowly on large messages), it has an additional (and perhaps primary) purpose aside from encrypting information. This same scheme can also be used to digitally \"sign\" messages, thereby increasing confidence in who sent the message.\\\n",
    "RSA always functions based off a pair of keys, *public* and *private*.\\\n",
    "**Public key** = $(e,n)$ \\\n",
    "**Private key** = $(d,n)$\n",
    "\n",
    "### Encryption\n",
    "As seen above, encryption requires the sender to know the public key of their desired recipient. Suppose Alice wants to send Bob a message, and she wants to encrypt it with RSA.\n",
    ">Alice writes message &rarr; **encrypt** &rarr; transmit to Bob &rarr; **decrypt** &rarr; Bob reads message\n",
    "\n",
    "Alice needs to know Bob's public key, $(e_{b}, n_{b})$. She will perform encryption in the following manner:\n",
    "> **Encrypt**: $C = M^{e_{b}}$ $mod$  $n_{b}$\n",
    "\n",
    "Since Bob is the only person who knows his private key, $(d_{b}, n_{b})$, only he can decrypt the message from Alice. He will perform decryption in the following manner:\n",
    "> **Decrypt**: $M = C^{d_{b}}$ $mod$  $n_{b}$\n",
    "\n",
    "### Signatures\n",
    "Now suppose Alice wants to send Bob a message, and she wants him to trust it was her that sent it. \n",
    "> Alice writes message &rarr; **sign** &rarr; transmit to Bob &rarr; **verify** &rarr; Bob reads and trusts message\n",
    "\n",
    "She needs to use a piece of information *only she* could know, her private key, $(d_{a}, n_{a})$, to sign the message.\n",
    "> **Sign**: $C = M^{d_{a}}$ $mod$  $n_{a}$\n",
    "\n",
    "When Bob receives her message, he can use Alice's public key, $(e_{a}, n_{a})$, to verify that the message indeed came from her.\n",
    "> **Verify**: $M = C^{e_{a}}$ $mod$  $n_{a}$\n",
    "\n",
    "These two functions may be used in tandem, to ensure both confidentiality of the message and integrity of the sender."
   ]
  },
  {
   "cell_type": "code",
   "execution_count": null,
   "id": "08f99021",
   "metadata": {},
   "outputs": [],
   "source": []
  }
 ],
 "metadata": {
  "kernelspec": {
   "display_name": "Python 3 (ipykernel)",
   "language": "python",
   "name": "python3"
  },
  "language_info": {
   "codemirror_mode": {
    "name": "ipython",
    "version": 3
   },
   "file_extension": ".py",
   "mimetype": "text/x-python",
   "name": "python",
   "nbconvert_exporter": "python",
   "pygments_lexer": "ipython3",
   "version": "3.9.12"
  }
 },
 "nbformat": 4,
 "nbformat_minor": 5
}
